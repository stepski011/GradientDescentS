{
 "cells": [
  {
   "cell_type": "code",
   "execution_count": 1,
   "id": "640c3c1e-7867-43b3-85ab-6dba1609999d",
   "metadata": {},
   "outputs": [],
   "source": [
    "import numpy as np"
   ]
  },
  {
   "cell_type": "code",
   "execution_count": 2,
   "id": "470a1f33-4d0c-4a78-a0db-01f39ef81257",
   "metadata": {},
   "outputs": [
    {
     "name": "stdout",
     "output_type": "stream",
     "text": [
      "[25 52 55 71  6 66] [46 11 30 19 10 62]\n"
     ]
    }
   ],
   "source": [
    "x= np.array([np.random.randint(1, 100) for i in range(6)])\n",
    "y= np.array([np.random.randint(1, 100) for i in range(6)])\n",
    "print(x,y)"
   ]
  },
  {
   "cell_type": "code",
   "execution_count": 3,
   "id": "1dd0ac8f-cdb0-4fa7-bcfb-a573841d4d07",
   "metadata": {},
   "outputs": [],
   "source": [
    "def stochastic_gradient_descent(gradient, x, y, randomv=None, init = None, lr = .1, decay_factor = .0,\n",
    "                                batch = 1, epochs = 50, tolerance = 1e-06,\n",
    "                                data_type=\"float64\", random_state = None):\n",
    "    \n",
    "    dt = np.dtype(data_type)\n",
    "    \n",
    "    x,y = np.array(x, dtype = dt), np.array(y, dtype = dt)\n",
    "    \n",
    "    obs = x.shape[0]\n",
    "    if obs != y.shape[0]:\n",
    "        raise ValueError(\"x & y values lengths must match!\")        \n",
    "    xy = np.c_[x.reshape(obs, -1), y.reshape(obs, 1)]\n",
    "    \n",
    "    \n",
    "    seed = None if random_state is None else int(random_state)\n",
    "    random_n = np.random.default_rng(seed = seed)\n",
    "    \n",
    "    vector = (\n",
    "        random_n.normal(size=int(randomv)).astype(dt)\n",
    "        if init is None else\n",
    "        np.array(init, dtype=dt)\n",
    "    )\n",
    "    \n",
    "    \n",
    "    lr = np.array(lr, dtype = dt)\n",
    "    \n",
    "    if np.any(lr <= 0):\n",
    "        raise ValueError(\"Learning rate value must be greater than 0\")\n",
    "\n",
    "    decay_factor = np.array(decay_factor, dtype=dt)\n",
    "    if np.any(decay_factor < 0) or np.any(decay_factor > 1):\n",
    "        raise ValueError(\"Decay factor value must be between 0 and 1\")\n",
    "        \n",
    "    batch = int(batch)    \n",
    "    if not 0 < batch <= obs:\n",
    "        raise ValueError(\"Batch size value must be greater than 0 and less or equal to the number of observations\")\n",
    "        \n",
    "    tolerance = np.array(tolerance, dtype=dt)\n",
    "    if np.any(tolerance <= 0):\n",
    "        raise ValueError(\"Tolerance value must be greater than 0\")\n",
    "        \n",
    "    difference = 0    \n",
    "        \n",
    "    for i in range(epochs):\n",
    "        random_n.shuffle(xy)\n",
    "        \n",
    "        for init in range(0, obs, batch):\n",
    "            stop = init + batch\n",
    "            x_batch, y_batch = xy[init:stop, :-1], xy[init:stop, -1:]\n",
    "            \n",
    "            gradient_ = np.array(gradient(x_batch, y_batch, vector), dt)\n",
    "            difference = decay_factor * difference - lr * gradient_\n",
    "            \n",
    "            if np.all(np.abs(difference) <= tolerance):\n",
    "                break\n",
    "            \n",
    "            vector += difference\n",
    "            \n",
    "    return vector if vector.shape else vector.item()"
   ]
  },
  {
   "cell_type": "code",
   "execution_count": 4,
   "id": "75d14ae8-a399-4f1e-a1b5-d632d1859e3f",
   "metadata": {},
   "outputs": [],
   "source": [
    "def ssr_gradient(x, y, b):\n",
    "    res = b[0] + b[1] * x - y\n",
    "    return res.mean(), (res * x).mean()"
   ]
  },
  {
   "cell_type": "code",
   "execution_count": 5,
   "id": "7f414171-325f-4f4e-83be-96642296a6b1",
   "metadata": {},
   "outputs": [
    {
     "data": {
      "text/plain": [
       "array([19.40776474,  0.23048986])"
      ]
     },
     "execution_count": 5,
     "metadata": {},
     "output_type": "execute_result"
    }
   ],
   "source": [
    "stochastic_gradient_descent(ssr_gradient, x, y, randomv = 2, lr=.0001, decay_factor = .8, batch = 3, epochs = 100000, random_state = 0)"
   ]
  },
  {
   "cell_type": "code",
   "execution_count": null,
   "id": "ac6d8201-d35e-414b-b334-19327cdec7e4",
   "metadata": {},
   "outputs": [],
   "source": []
  }
 ],
 "metadata": {
  "kernelspec": {
   "display_name": "Python 3 (ipykernel)",
   "language": "python",
   "name": "python3"
  },
  "language_info": {
   "codemirror_mode": {
    "name": "ipython",
    "version": 3
   },
   "file_extension": ".py",
   "mimetype": "text/x-python",
   "name": "python",
   "nbconvert_exporter": "python",
   "pygments_lexer": "ipython3",
   "version": "3.9.7"
  }
 },
 "nbformat": 4,
 "nbformat_minor": 5
}
