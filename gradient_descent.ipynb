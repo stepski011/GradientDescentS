{
 "cells": [
  {
   "cell_type": "code",
   "execution_count": 66,
   "id": "cad59306-7ec2-4ab7-ad2b-8e4dd746b009",
   "metadata": {},
   "outputs": [],
   "source": [
    "import numpy as np"
   ]
  },
  {
   "cell_type": "code",
   "execution_count": 67,
   "id": "a90cc200-dd6f-4839-bfe4-b1b1b3fa862e",
   "metadata": {},
   "outputs": [],
   "source": [
    "def gradient_descent(function, gradient, w_init, epochs = 100, learning_rate = 0.001, verbose = 0):\n",
    "    \n",
    "    i = 0\n",
    "    w = w_init\n",
    "    \n",
    "    while i < epochs:\n",
    "        delta_w = -learning_rate * gradient(w)\n",
    "        w = w + delta_w\n",
    "        \n",
    "        if verbose > 0:\n",
    "            print(\"f = {}; w = {}\".format(function(w), w))\n",
    "        \n",
    "        i+=1\n",
    "        \n",
    "    return w"
   ]
  },
  {
   "cell_type": "code",
   "execution_count": 68,
   "id": "e81b6c68-4d53-4fff-ae35-c4c5d89be8dc",
   "metadata": {},
   "outputs": [],
   "source": [
    "def function_example(w):\n",
    "    return numpy.sum(w*w)\n",
    "\n",
    "def gradient(w):\n",
    "    return 2*w"
   ]
  },
  {
   "cell_type": "code",
   "execution_count": 69,
   "id": "06f46cc2-960b-41e4-af45-074e0143765e",
   "metadata": {},
   "outputs": [],
   "source": [
    "# Random starting point\n",
    "# s_point = np.array([np.random.randint(0,10), np.random.randint(0,10)])\n",
    "w_init = np.array([10,10])"
   ]
  },
  {
   "cell_type": "code",
   "execution_count": 70,
   "id": "4d80a69f-c774-49a8-8002-9a22f78e9648",
   "metadata": {},
   "outputs": [
    {
     "name": "stdout",
     "output_type": "stream",
     "text": [
      "f = 128.0; w = [8. 8.]\n",
      "f = 81.92000000000002; w = [6.4 6.4]\n",
      "f = 52.4288; w = [5.12 5.12]\n",
      "f = 33.554432; w = [4.096 4.096]\n",
      "f = 21.47483648; w = [3.2768 3.2768]\n",
      "f = 13.743895347200002; w = [2.62144 2.62144]\n",
      "f = 8.796093022208003; w = [2.097152 2.097152]\n",
      "f = 5.629499534213123; w = [1.6777216 1.6777216]\n",
      "f = 3.602879701896398; w = [1.34217728 1.34217728]\n",
      "f = 2.305843009213695; w = [1.07374182 1.07374182]\n",
      "f = 1.475739525896765; w = [0.85899346 0.85899346]\n",
      "f = 0.9444732965739295; w = [0.68719477 0.68719477]\n",
      "f = 0.6044629098073148; w = [0.54975581 0.54975581]\n",
      "f = 0.38685626227668146; w = [0.43980465 0.43980465]\n",
      "f = 0.24758800785707613; w = [0.35184372 0.35184372]\n",
      "f = 0.1584563250285287; w = [0.28147498 0.28147498]\n",
      "f = 0.10141204801825837; w = [0.22517998 0.22517998]\n",
      "f = 0.06490371073168535; w = [0.18014399 0.18014399]\n",
      "f = 0.041538374868278626; w = [0.14411519 0.14411519]\n",
      "f = 0.026584559915698323; w = [0.11529215 0.11529215]\n",
      "f = 0.017014118346046925; w = [0.09223372 0.09223372]\n",
      "f = 0.010889035741470033; w = [0.07378698 0.07378698]\n",
      "f = 0.00696898287454082; w = [0.05902958 0.05902958]\n",
      "f = 0.004460149039706126; w = [0.04722366 0.04722366]\n",
      "f = 0.0028544953854119206; w = [0.03777893 0.03777893]\n"
     ]
    }
   ],
   "source": [
    "lr = .1\n",
    "w_opt = gradient_descent(function_example, gradient, w_init, epochs = 25, learning_rate = lr, verbose = 1)"
   ]
  },
  {
   "cell_type": "code",
   "execution_count": null,
   "id": "446107ce-e14f-4b16-9145-d34c64b31e05",
   "metadata": {},
   "outputs": [],
   "source": []
  }
 ],
 "metadata": {
  "kernelspec": {
   "display_name": "Python 3 (ipykernel)",
   "language": "python",
   "name": "python3"
  },
  "language_info": {
   "codemirror_mode": {
    "name": "ipython",
    "version": 3
   },
   "file_extension": ".py",
   "mimetype": "text/x-python",
   "name": "python",
   "nbconvert_exporter": "python",
   "pygments_lexer": "ipython3",
   "version": "3.9.7"
  }
 },
 "nbformat": 4,
 "nbformat_minor": 5
}
